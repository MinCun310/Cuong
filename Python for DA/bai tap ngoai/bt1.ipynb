{
 "cells": [
  {
   "cell_type": "code",
   "execution_count": 4,
   "id": "100d29de",
   "metadata": {},
   "outputs": [
    {
     "name": "stdout",
     "output_type": "stream",
     "text": [
      "9\n"
     ]
    }
   ],
   "source": [
    "# Bài 1\n",
    "a=9\n",
    "b=8\n",
    "if a>b:\n",
    "    print(a)\n",
    "elif a<b:\n",
    "    print(b)\n",
    "else:\n",
    "    print(\"hai số bằng nhau\")\n"
   ]
  },
  {
   "cell_type": "code",
   "execution_count": 4,
   "id": "6676f8f8",
   "metadata": {},
   "outputs": [
    {
     "name": "stdout",
     "output_type": "stream",
     "text": [
      "*\n",
      "**\n",
      "***\n",
      "****\n",
      "*****\n",
      "******\n",
      "*******\n",
      "********\n",
      "*********\n"
     ]
    }
   ],
   "source": [
    "# Bài 2\n",
    "n=9\n",
    "i=1\n",
    "j=1\n",
    "while(i<=n):\n",
    "    while(j<=i):\n",
    "        print(\"*\",end=\"\")\n",
    "        j+=1\n",
    "    print(\"\")\n",
    "    j=1;i+=1"
   ]
  },
  {
   "cell_type": "code",
   "execution_count": 43,
   "id": "20e6af48",
   "metadata": {},
   "outputs": [
    {
     "ename": "SyntaxError",
     "evalue": "invalid syntax (3359795371.py, line 3)",
     "output_type": "error",
     "traceback": [
      "\u001b[1;36m  Input \u001b[1;32mIn [43]\u001b[1;36m\u001b[0m\n\u001b[1;33m    for animal in l\u001b[0m\n\u001b[1;37m                   ^\u001b[0m\n\u001b[1;31mSyntaxError\u001b[0m\u001b[1;31m:\u001b[0m invalid syntax\n"
     ]
    }
   ],
   "source": [
    "# Bài 3\n",
    "l = [3,5]\n",
    "for animal in l\n",
    "    if i%3:\n",
    "        print('fizz')\n",
    "    "
   ]
  },
  {
   "cell_type": "code",
   "execution_count": 5,
   "id": "c97c914f",
   "metadata": {},
   "outputs": [],
   "source": [
    "# sửa bài tập\n",
    "# câu 1\n",
    "def maximum(a,b):\n",
    "    if a >= b:\n",
    "        return a\n",
    "    else:\n",
    "        return b"
   ]
  },
  {
   "cell_type": "code",
   "execution_count": 6,
   "id": "e2a5d44f",
   "metadata": {},
   "outputs": [
    {
     "data": {
      "text/plain": [
       "5"
      ]
     },
     "execution_count": 6,
     "metadata": {},
     "output_type": "execute_result"
    }
   ],
   "source": [
    "maximum(5,1)"
   ]
  },
  {
   "cell_type": "code",
   "execution_count": 1,
   "id": "d3533096",
   "metadata": {},
   "outputs": [],
   "source": [
    "# câu 1 mở rộng\n",
    "def maximum(l):\n",
    "    m = l[0]\n",
    "    for i in range(len(l)):\n",
    "        if m < l[i]:\n",
    "            m = l[i]\n",
    "    return m"
   ]
  },
  {
   "cell_type": "code",
   "execution_count": 2,
   "id": "a2ae6752",
   "metadata": {},
   "outputs": [
    {
     "data": {
      "text/plain": [
       "8"
      ]
     },
     "execution_count": 2,
     "metadata": {},
     "output_type": "execute_result"
    }
   ],
   "source": [
    "maximum([1,2,8,4,3,5])"
   ]
  },
  {
   "cell_type": "code",
   "execution_count": 9,
   "id": "c810f17b",
   "metadata": {},
   "outputs": [],
   "source": [
    "# câu 2\n",
    "def show_star(rows):\n",
    "    for i in range(rows):\n",
    "        for j in range(i+1):\n",
    "            print('*', end ='')\n",
    "        print('\\n')"
   ]
  },
  {
   "cell_type": "code",
   "execution_count": 11,
   "id": "07e4a016",
   "metadata": {},
   "outputs": [
    {
     "name": "stdout",
     "output_type": "stream",
     "text": [
      "*\n",
      "\n",
      "**\n",
      "\n",
      "***\n",
      "\n",
      "****\n",
      "\n",
      "*****\n",
      "\n"
     ]
    }
   ],
   "source": [
    "show_star(5)"
   ]
  },
  {
   "cell_type": "code",
   "execution_count": 13,
   "id": "b2f7209a",
   "metadata": {},
   "outputs": [],
   "source": [
    "# câu 2 mở rộng\n",
    "def show_stars(rows):\n",
    "    n = 1\n",
    "    while rows >=n:\n",
    "        print(n*'*')\n",
    "        n = n + 1\n",
    "    pass"
   ]
  },
  {
   "cell_type": "code",
   "execution_count": 14,
   "id": "bc5ebcb9",
   "metadata": {},
   "outputs": [
    {
     "name": "stdout",
     "output_type": "stream",
     "text": [
      "*\n",
      "**\n",
      "***\n",
      "****\n",
      "*****\n",
      "******\n"
     ]
    }
   ],
   "source": [
    "show_stars(6)"
   ]
  },
  {
   "cell_type": "code",
   "execution_count": 26,
   "id": "4886da36",
   "metadata": {},
   "outputs": [],
   "source": [
    "# bài 3\n",
    "def fizz_buzz(n):\n",
    "    if n%3 == 0 and n%5 == 0:\n",
    "        return \"fizz_buzz\"\n",
    "    elif n%3 == 0:\n",
    "        return 'fizz'\n",
    "    elif n%5 == 0:\n",
    "        return \"buzz\"\n",
    "    else:\n",
    "        return n"
   ]
  },
  {
   "cell_type": "code",
   "execution_count": 24,
   "id": "d754021d",
   "metadata": {},
   "outputs": [
    {
     "name": "stdout",
     "output_type": "stream",
     "text": [
      "fizz\n"
     ]
    }
   ],
   "source": [
    "fizz_buzz(9)"
   ]
  },
  {
   "cell_type": "code",
   "execution_count": 29,
   "id": "e6ab85df",
   "metadata": {},
   "outputs": [
    {
     "data": {
      "text/plain": [
       "19"
      ]
     },
     "execution_count": 29,
     "metadata": {},
     "output_type": "execute_result"
    }
   ],
   "source": [
    "fizz_buzz(19)"
   ]
  },
  {
   "cell_type": "code",
   "execution_count": 3,
   "id": "2be52fca",
   "metadata": {},
   "outputs": [
    {
     "ename": "NameError",
     "evalue": "name 'l' is not defined",
     "output_type": "error",
     "traceback": [
      "\u001b[1;31m---------------------------------------------------------------------------\u001b[0m",
      "\u001b[1;31mNameError\u001b[0m                                 Traceback (most recent call last)",
      "Input \u001b[1;32mIn [3]\u001b[0m, in \u001b[0;36m<cell line: 1>\u001b[1;34m()\u001b[0m\n\u001b[1;32m----> 1\u001b[0m \u001b[43ml\u001b[49m[\u001b[38;5;241m0\u001b[39m]\n",
      "\u001b[1;31mNameError\u001b[0m: name 'l' is not defined"
     ]
    }
   ],
   "source": [
    "l[0]"
   ]
  },
  {
   "cell_type": "code",
   "execution_count": null,
   "id": "d0a539c2",
   "metadata": {},
   "outputs": [],
   "source": []
  }
 ],
 "metadata": {
  "kernelspec": {
   "display_name": "Python 3 (ipykernel)",
   "language": "python",
   "name": "python3"
  },
  "language_info": {
   "codemirror_mode": {
    "name": "ipython",
    "version": 3
   },
   "file_extension": ".py",
   "mimetype": "text/x-python",
   "name": "python",
   "nbconvert_exporter": "python",
   "pygments_lexer": "ipython3",
   "version": "3.9.12"
  }
 },
 "nbformat": 4,
 "nbformat_minor": 5
}
