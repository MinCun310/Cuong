{
 "cells": [
  {
   "cell_type": "code",
   "execution_count": 1,
   "id": "773f0a8c",
   "metadata": {},
   "outputs": [],
   "source": [
    "#write a fucntion to check if a number is a Palindrome number"
   ]
  },
  {
   "cell_type": "code",
   "execution_count": 26,
   "id": "b6d7e3f2",
   "metadata": {},
   "outputs": [],
   "source": [
    "#1\n",
    "def palindrome(n):\n",
    "    r=0\n",
    "    t=n\n",
    "    while n>0:\n",
    "        i=n%10\n",
    "        r=r*10+i\n",
    "        n=n//10\n",
    "    if t==r:\n",
    "        print('palindrome number')\n",
    "    else:\n",
    "        print('not a palindrome number')"
   ]
  },
  {
   "cell_type": "code",
   "execution_count": 27,
   "id": "88206478",
   "metadata": {},
   "outputs": [
    {
     "name": "stdout",
     "output_type": "stream",
     "text": [
      "palindrome number\n"
     ]
    }
   ],
   "source": [
    "palindrome(1)"
   ]
  },
  {
   "cell_type": "code",
   "execution_count": 28,
   "id": "49c0b9ad",
   "metadata": {},
   "outputs": [
    {
     "name": "stdout",
     "output_type": "stream",
     "text": [
      "palindrome number\n"
     ]
    }
   ],
   "source": [
    "palindrome(121)"
   ]
  },
  {
   "cell_type": "code",
   "execution_count": 18,
   "id": "89d18841",
   "metadata": {},
   "outputs": [
    {
     "name": "stdout",
     "output_type": "stream",
     "text": [
      "not a palindrome number\n"
     ]
    }
   ],
   "source": [
    "palindrome(12)"
   ]
  },
  {
   "cell_type": "code",
   "execution_count": 19,
   "id": "8b7faf75",
   "metadata": {},
   "outputs": [
    {
     "name": "stdout",
     "output_type": "stream",
     "text": [
      "palindrome number\n"
     ]
    }
   ],
   "source": [
    "palindrome(1221)"
   ]
  },
  {
   "cell_type": "code",
   "execution_count": 20,
   "id": "6076e5a3",
   "metadata": {},
   "outputs": [
    {
     "name": "stdout",
     "output_type": "stream",
     "text": [
      "palindrome number\n"
     ]
    }
   ],
   "source": [
    "palindrome(123321)"
   ]
  },
  {
   "cell_type": "code",
   "execution_count": 20,
   "id": "e871ae38",
   "metadata": {},
   "outputs": [],
   "source": [
    "#2\n",
    "def palindrome_check(num):\n",
    "    temp_num = num\n",
    "    reversed_num = ''\n",
    "    while temp_num > 0:\n",
    "        last_num = temp_num % 10\n",
    "        reversed_num = reversed_num + str(last_num)\n",
    "        temp_num = temp_num // 10\n",
    "    if int(reversed_num) == num:\n",
    "        return True\n",
    "    else:\n",
    "        return False"
   ]
  },
  {
   "cell_type": "code",
   "execution_count": 21,
   "id": "d755e6a8",
   "metadata": {},
   "outputs": [
    {
     "data": {
      "text/plain": [
       "True"
      ]
     },
     "execution_count": 21,
     "metadata": {},
     "output_type": "execute_result"
    }
   ],
   "source": [
    "palindrome_check(123321)"
   ]
  },
  {
   "cell_type": "code",
   "execution_count": 22,
   "id": "cb33758a",
   "metadata": {},
   "outputs": [
    {
     "data": {
      "text/plain": [
       "False"
      ]
     },
     "execution_count": 22,
     "metadata": {},
     "output_type": "execute_result"
    }
   ],
   "source": [
    "palindrome_check(12)"
   ]
  },
  {
   "cell_type": "code",
   "execution_count": null,
   "id": "22c2f0de",
   "metadata": {},
   "outputs": [],
   "source": []
  }
 ],
 "metadata": {
  "kernelspec": {
   "display_name": "Python 3 (ipykernel)",
   "language": "python",
   "name": "python3"
  },
  "language_info": {
   "codemirror_mode": {
    "name": "ipython",
    "version": 3
   },
   "file_extension": ".py",
   "mimetype": "text/x-python",
   "name": "python",
   "nbconvert_exporter": "python",
   "pygments_lexer": "ipython3",
   "version": "3.9.12"
  }
 },
 "nbformat": 4,
 "nbformat_minor": 5
}
