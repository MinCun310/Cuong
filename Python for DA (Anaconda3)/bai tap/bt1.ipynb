{
 "cells": [
  {
   "cell_type": "code",
   "execution_count": 1,
   "id": "c97c914f",
   "metadata": {},
   "outputs": [],
   "source": [
    "# câu 1\n",
    "def maximum(a,b):\n",
    "    if a >= b:\n",
    "        return a\n",
    "    else:\n",
    "        return b"
   ]
  },
  {
   "cell_type": "code",
   "execution_count": 2,
   "id": "e2a5d44f",
   "metadata": {},
   "outputs": [
    {
     "data": {
      "text/plain": [
       "5"
      ]
     },
     "execution_count": 2,
     "metadata": {},
     "output_type": "execute_result"
    }
   ],
   "source": [
    "maximum(5,1)"
   ]
  },
  {
   "cell_type": "code",
   "execution_count": 3,
   "id": "d3533096",
   "metadata": {},
   "outputs": [],
   "source": [
    "# câu 1 mở rộng\n",
    "def maximum(l):\n",
    "    m = l[0]\n",
    "    for i in range(len(l)):\n",
    "        if m < l[i]:\n",
    "            m = l[i]\n",
    "    return m"
   ]
  },
  {
   "cell_type": "code",
   "execution_count": 4,
   "id": "a2ae6752",
   "metadata": {},
   "outputs": [
    {
     "data": {
      "text/plain": [
       "8"
      ]
     },
     "execution_count": 4,
     "metadata": {},
     "output_type": "execute_result"
    }
   ],
   "source": [
    "maximum([1,2,8,4,3,5])"
   ]
  },
  {
   "cell_type": "code",
   "execution_count": 5,
   "id": "c810f17b",
   "metadata": {},
   "outputs": [],
   "source": [
    "# câu 2\n",
    "def show_star(rows):\n",
    "    for i in range(rows):\n",
    "        for j in range(i+1):\n",
    "            print('*', end ='')\n",
    "        print('\\n')"
   ]
  },
  {
   "cell_type": "code",
   "execution_count": 6,
   "id": "07e4a016",
   "metadata": {},
   "outputs": [
    {
     "name": "stdout",
     "output_type": "stream",
     "text": [
      "*\n",
      "\n",
      "**\n",
      "\n",
      "***\n",
      "\n",
      "****\n",
      "\n",
      "*****\n",
      "\n"
     ]
    }
   ],
   "source": [
    "show_star(5)"
   ]
  },
  {
   "cell_type": "code",
   "execution_count": 7,
   "id": "b2f7209a",
   "metadata": {},
   "outputs": [],
   "source": [
    "# câu 2 mở rộng\n",
    "def show_stars(rows):\n",
    "    n = 1\n",
    "    while rows >=n:\n",
    "        print(n*'*')\n",
    "        n = n + 1\n",
    "    pass"
   ]
  },
  {
   "cell_type": "code",
   "execution_count": 8,
   "id": "bc5ebcb9",
   "metadata": {},
   "outputs": [
    {
     "name": "stdout",
     "output_type": "stream",
     "text": [
      "*\n",
      "**\n",
      "***\n",
      "****\n",
      "*****\n",
      "******\n"
     ]
    }
   ],
   "source": [
    "show_stars(6)"
   ]
  },
  {
   "cell_type": "code",
   "execution_count": 9,
   "id": "4886da36",
   "metadata": {},
   "outputs": [],
   "source": [
    "# bài 3\n",
    "def fizz_buzz(n):\n",
    "    if n%3 == 0 and n%5 == 0:\n",
    "        return \"fizz_buzz\"\n",
    "    elif n%3 == 0:\n",
    "        return 'fizz'\n",
    "    elif n%5 == 0:\n",
    "        return \"buzz\"\n",
    "    else:\n",
    "        return n"
   ]
  },
  {
   "cell_type": "code",
   "execution_count": 10,
   "id": "d754021d",
   "metadata": {},
   "outputs": [
    {
     "data": {
      "text/plain": [
       "'fizz'"
      ]
     },
     "execution_count": 10,
     "metadata": {},
     "output_type": "execute_result"
    }
   ],
   "source": [
    "fizz_buzz(9)"
   ]
  },
  {
   "cell_type": "code",
   "execution_count": 11,
   "id": "e6ab85df",
   "metadata": {},
   "outputs": [
    {
     "data": {
      "text/plain": [
       "19"
      ]
     },
     "execution_count": 11,
     "metadata": {},
     "output_type": "execute_result"
    }
   ],
   "source": [
    "fizz_buzz(19)"
   ]
  },
  {
   "cell_type": "code",
   "execution_count": null,
   "id": "d0a539c2",
   "metadata": {},
   "outputs": [],
   "source": []
  }
 ],
 "metadata": {
  "kernelspec": {
   "display_name": "Python 3 (ipykernel)",
   "language": "python",
   "name": "python3"
  },
  "language_info": {
   "codemirror_mode": {
    "name": "ipython",
    "version": 3
   },
   "file_extension": ".py",
   "mimetype": "text/x-python",
   "name": "python",
   "nbconvert_exporter": "python",
   "pygments_lexer": "ipython3",
   "version": "3.9.12"
  }
 },
 "nbformat": 4,
 "nbformat_minor": 5
}
